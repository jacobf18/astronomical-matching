{
 "cells": [
  {
   "cell_type": "code",
   "execution_count": 1,
   "metadata": {},
   "outputs": [],
   "source": [
    "from math import log\n",
    "import numpy as np\n",
    "import gurobipy as gp\n",
    "import matplotlib.pyplot as plt\n",
    "from matching import neg_log_bayes, miqcp\n",
    "from gurobi import GRB, Model, quicksum\n",
    "import pandas as pd\n",
    "import time\n",
    "from matching import run_cop_kmeans, run_kmeans\n",
    "\n",
    "plt.rcParams['text.usetex'] = True"
   ]
  },
  {
   "cell_type": "code",
   "execution_count": 2,
   "metadata": {},
   "outputs": [],
   "source": [
    "def simulate_two_objects(sigma1: float = 0.04, sigma2: float = 0.04, distance:float = 0.04, num: int = 10):\n",
    "    \"\"\"Simulate two overlapping objects.\n",
    "\n",
    "    Args:\n",
    "        sigma1 (float, optional): Sigma to use for first object. Defaults to 0.04.\n",
    "        sigma2 (float, optional): Sigma to use for second object. Defaults to 0.04.\n",
    "        distance (float, optional): distance between center of objects. Defaults to 0.04.\n",
    "        num (int, optional): number of sources to generate for each object. Defaults to 10.\n",
    "    \"\"\"\n",
    "    center1 = np.array([-distance / 2, 0])\n",
    "    center2 = np.array([distance / 2, 0])\n",
    "\n",
    "    sources1 = np.random.multivariate_normal(center1, np.eye(2) * (sigma1**2), (num))\n",
    "    sources2 = np.random.multivariate_normal(center2, np.eye(2) * (sigma2**2), (num))\n",
    "\n",
    "    imageIDs = [0] * (2 * num)\n",
    "    for i in range(num):\n",
    "        imageIDs[i] = i\n",
    "        imageIDs[i+num] = i\n",
    "        \n",
    "    sigmas = ([sigma1] * num) + ([sigma2] * num)\n",
    "    coords = np.vstack((sources1, sources2))\n",
    "    df_dict = {\"ImageID\": imageIDs, \n",
    "               \"Sigma\": sigmas,\n",
    "               \"coord1 (arcseconds)\": coords.T[0],\n",
    "               \"coord2 (arcseconds)\": coords.T[1]}\n",
    "    df = pd.DataFrame(df_dict)\n",
    "    df[\"kappa\"] = df[\"Sigma\"] ** (-2)\n",
    "    df[\"SourceID\"] = df.index\n",
    "    df[\"ObjectID\"] = ([0] * num) + ([1] * num)\n",
    "\n",
    "    return df\n",
    "\n",
    "def time_method(df: pd.DataFrame, method, repeat: int = 5):\n",
    "    \"\"\" Time a method.\n",
    "\n",
    "    Args:\n",
    "        df (pd.DataFrame): dataframe with coordinates and uncertainties\n",
    "        method (function): method to run\n",
    "        repeat (int, optional): number of time repeats. Defaults to 5.\n",
    "\n",
    "    Returns:\n",
    "        list: list of runtimes\n",
    "    \"\"\"\n",
    "    times = []\n",
    "    for _ in range(repeat):\n",
    "        start_time = time.perf_counter()\n",
    "\n",
    "        method(df)\n",
    "\n",
    "        end_time = time.perf_counter()\n",
    "        times.append(end_time - start_time)\n",
    "    return times"
   ]
  },
  {
   "cell_type": "code",
   "execution_count": 20,
   "metadata": {},
   "outputs": [
    {
     "data": {
      "text/plain": [
       "<matplotlib.collections.PathCollection at 0x7f561f539d80>"
      ]
     },
     "execution_count": 20,
     "metadata": {},
     "output_type": "execute_result"
    },
    {
     "data": {
      "image/png": "[encoded data removed]",
      "text/plain": [
       "<Figure size 640x480 with 1 Axes>"
      ]
     },
     "metadata": {},
     "output_type": "display_data"
    }
   ],
   "source": [
    "df = simulate_two_objects(sigma1 = 0.01, sigma2 = 0.01, distance=0.05, num=30)\n",
    "plt.scatter(df[\"coord1 (arcseconds)\"], df[\"coord2 (arcseconds)\"],c=df.ObjectID)"
   ]
  },
  {
   "cell_type": "code",
   "execution_count": 21,
   "metadata": {},
   "outputs": [],
   "source": [
    "miqcp_times = time_method(df, miqcp, repeat = 1)"
   ]
  },
  {
   "cell_type": "code",
   "execution_count": 16,
   "metadata": {},
   "outputs": [
    {
     "data": {
      "text/plain": [
       "[3.994669604000592]"
      ]
     },
     "execution_count": 16,
     "metadata": {},
     "output_type": "execute_result"
    }
   ],
   "source": [
    "miqcp_times"
   ]
  }
 ],
 "metadata": {
  "kernelspec": {
   "display_name": "research",
   "language": "python",
   "name": "python3"
  },
  "language_info": {
   "codemirror_mode": {
    "name": "ipython",
    "version": 3
   },
   "file_extension": ".py",
   "mimetype": "text/x-python",
   "name": "python",
   "nbconvert_exporter": "python",
   "pygments_lexer": "ipython3",
   "version": "3.10.4"
  },
  "orig_nbformat": 4
 },
 "nbformat": 4,
 "nbformat_minor": 2
}
