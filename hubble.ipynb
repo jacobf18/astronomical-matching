{
 "cells": [
  {
   "attachments": {},
   "cell_type": "markdown",
   "metadata": {},
   "source": [
    "# Import libraries"
   ]
  },
  {
   "cell_type": "code",
   "execution_count": 1,
   "metadata": {},
   "outputs": [],
   "source": [
    "import pandas as pd\n",
    "import matplotlib.pyplot as plt\n",
    "import numpy as np"
   ]
  },
  {
   "attachments": {},
   "cell_type": "markdown",
   "metadata": {},
   "source": [
    "# Load data"
   ]
  },
  {
   "cell_type": "code",
   "execution_count": 2,
   "metadata": {},
   "outputs": [
    {
     "data": {
      "text/html": [
       "<div>\n",
       "<style scoped>\n",
       "    .dataframe tbody tr th:only-of-type {\n",
       "        vertical-align: middle;\n",
       "    }\n",
       "\n",
       "    .dataframe tbody tr th {\n",
       "        vertical-align: top;\n",
       "    }\n",
       "\n",
       "    .dataframe thead th {\n",
       "        text-align: right;\n",
       "    }\n",
       "</style>\n",
       "<table border=\"1\" class=\"dataframe\">\n",
       "  <thead>\n",
       "    <tr style=\"text-align: right;\">\n",
       "      <th></th>\n",
       "      <th>MatchID</th>\n",
       "      <th>SubID</th>\n",
       "      <th>RA</th>\n",
       "      <th>Dec</th>\n",
       "      <th>ImageID</th>\n",
       "      <th>SourceID</th>\n",
       "      <th>X</th>\n",
       "      <th>Y</th>\n",
       "      <th>Z</th>\n",
       "      <th>sigma</th>\n",
       "    </tr>\n",
       "  </thead>\n",
       "  <tbody>\n",
       "    <tr>\n",
       "      <th>0</th>\n",
       "      <td>4000710334517</td>\n",
       "      <td>0</td>\n",
       "      <td>269.749758</td>\n",
       "      <td>-29.186608</td>\n",
       "      <td>22819</td>\n",
       "      <td>4001061039486</td>\n",
       "      <td>-0.003813</td>\n",
       "      <td>-0.873028</td>\n",
       "      <td>-0.487656</td>\n",
       "      <td>0.03655</td>\n",
       "    </tr>\n",
       "    <tr>\n",
       "      <th>1</th>\n",
       "      <td>4000710334517</td>\n",
       "      <td>0</td>\n",
       "      <td>269.749758</td>\n",
       "      <td>-29.186608</td>\n",
       "      <td>44893</td>\n",
       "      <td>4001212780699</td>\n",
       "      <td>-0.003814</td>\n",
       "      <td>-0.873028</td>\n",
       "      <td>-0.487656</td>\n",
       "      <td>0.06405</td>\n",
       "    </tr>\n",
       "    <tr>\n",
       "      <th>2</th>\n",
       "      <td>4000710334517</td>\n",
       "      <td>0</td>\n",
       "      <td>269.749758</td>\n",
       "      <td>-29.186608</td>\n",
       "      <td>44893</td>\n",
       "      <td>4001212780710</td>\n",
       "      <td>-0.003812</td>\n",
       "      <td>-0.873028</td>\n",
       "      <td>-0.487656</td>\n",
       "      <td>0.03850</td>\n",
       "    </tr>\n",
       "    <tr>\n",
       "      <th>3</th>\n",
       "      <td>4000710334517</td>\n",
       "      <td>0</td>\n",
       "      <td>269.749758</td>\n",
       "      <td>-29.186608</td>\n",
       "      <td>44909</td>\n",
       "      <td>4001120525362</td>\n",
       "      <td>-0.003813</td>\n",
       "      <td>-0.873028</td>\n",
       "      <td>-0.487656</td>\n",
       "      <td>0.03395</td>\n",
       "    </tr>\n",
       "    <tr>\n",
       "      <th>4</th>\n",
       "      <td>4000710334517</td>\n",
       "      <td>0</td>\n",
       "      <td>269.749758</td>\n",
       "      <td>-29.186608</td>\n",
       "      <td>44923</td>\n",
       "      <td>4001152086466</td>\n",
       "      <td>-0.003813</td>\n",
       "      <td>-0.873028</td>\n",
       "      <td>-0.487656</td>\n",
       "      <td>0.01605</td>\n",
       "    </tr>\n",
       "  </tbody>\n",
       "</table>\n",
       "</div>"
      ],
      "text/plain": [
       "         MatchID  SubID          RA        Dec  ImageID       SourceID  \\\n",
       "0  4000710334517      0  269.749758 -29.186608    22819  4001061039486   \n",
       "1  4000710334517      0  269.749758 -29.186608    44893  4001212780699   \n",
       "2  4000710334517      0  269.749758 -29.186608    44893  4001212780710   \n",
       "3  4000710334517      0  269.749758 -29.186608    44909  4001120525362   \n",
       "4  4000710334517      0  269.749758 -29.186608    44923  4001152086466   \n",
       "\n",
       "          X         Y         Z    sigma  \n",
       "0 -0.003813 -0.873028 -0.487656  0.03655  \n",
       "1 -0.003814 -0.873028 -0.487656  0.06405  \n",
       "2 -0.003812 -0.873028 -0.487656  0.03850  \n",
       "3 -0.003813 -0.873028 -0.487656  0.03395  \n",
       "4 -0.003813 -0.873028 -0.487656  0.01605  "
      ]
     },
     "execution_count": 2,
     "metadata": {},
     "output_type": "execute_result"
    }
   ],
   "source": [
    "data_path = 'data/match_4000710334517.csv'\n",
    "data_df = pd.read_csv(data_path)\n",
    "data_df.head()"
   ]
  },
  {
   "attachments": {},
   "cell_type": "markdown",
   "metadata": {},
   "source": [
    "# Convert to 2D coordinates"
   ]
  },
  {
   "cell_type": "code",
   "execution_count": 4,
   "metadata": {},
   "outputs": [
    {
     "data": {
      "text/plain": [
       "\"\\ncreate function xrun.fWeightExpr(@SigmaArcsecExpr varchar(512))\\nreturns varchar(512)\\nas\\nbegin\\n        return '2.3*POWER(PI()*' + @SigmaArcsecExpr + '/180/3600,-2)';\\nend\\ngo\\n\""
      ]
     },
     "execution_count": 4,
     "metadata": {},
     "output_type": "execute_result"
    }
   ],
   "source": [
    "def tangent(ra: float, dec: float) -> tuple[np.ndarray, np.ndarray]:\n",
    "    \"\"\"Returns the tangent vectors pointing to west and north.\n",
    "\n",
    "    Args:\n",
    "        ra (float): right ascension in degrees\n",
    "        dec (float): declination in degrees\n",
    "\n",
    "    Returns:\n",
    "        tuple[float,float]: west and north vectors\n",
    "    \"\"\"\n",
    "    # Convert to radians\n",
    "    ra = np.radians(ra)\n",
    "    dec = np.radians(dec)\n",
    "    \n",
    "    # Get sin and cos of ra and dec\n",
    "    sinRa = np.sin(ra)\n",
    "    cosRa = np.cos(ra)\n",
    "    sinDec = np.sin(dec)\n",
    "    cosDec = np.cos(dec)\n",
    "    \n",
    "    # Get tangent vectors\n",
    "    west = np.array([sinRa, -cosRa, 0])\n",
    "    north = np.array([-sinDec * cosRa, -sinDec * sinRa, cosDec])\n",
    "    return west, north\n",
    "\n",
    "\n",
    "# Do dot product with tangent vectors (north and west) to get x and y\n",
    "\n",
    "# Blur is the same because it's the same instrument.\n",
    "# Uncertainty: \n",
    "\n",
    "\n",
    "\"\"\" \n",
    "-- ACS pixel size * max(2,FWHM_IMAGE) -- Rick's formula\n",
    "Sigma = CONVERT(float,0.1) * 0.05\n",
    "                * case when COALESCE(c.FWHM_IMAGE,0) < 2 then 2 else c.FWHM_IMAGE end,\n",
    "\"\"\"\n",
    "\n",
    "# ACS pixel size is 0.05 arcsec/pixel\n",
    "# FWHM_IMAGE is in arcsec\n",
    "# sigma = 0.05 * max(2, FWHM_IMAGE)\n",
    "\n",
    "\n",
    "\"\"\"\n",
    "create function xrun.fWeightExpr(@SigmaArcsecExpr varchar(512))\n",
    "returns varchar(512)\n",
    "as\n",
    "begin\n",
    "        return '2.3*POWER(PI()*' + @SigmaArcsecExpr + '/180/3600,-2)';\n",
    "end\n",
    "go\n",
    "\"\"\""
   ]
  },
  {
   "cell_type": "code",
   "execution_count": 19,
   "metadata": {},
   "outputs": [],
   "source": [
    "for row in data_df.itertuples():\n",
    "    west, north = tangent(row.RA, row.Dec)\n",
    "    xyz = np.array([row.X, row.Y, row.Z])\n",
    "    data_df.loc[row.Index, 'coord1'] = np.dot(west, xyz) # coord1 is x\n",
    "    data_df.loc[row.Index, 'coord2'] = np.dot(north, xyz) # coord2 is y"
   ]
  },
  {
   "cell_type": "code",
   "execution_count": 21,
   "metadata": {},
   "outputs": [
    {
     "data": {
      "text/plain": [
       "<matplotlib.collections.PathCollection at 0x7fc0340a4df0>"
      ]
     },
     "execution_count": 21,
     "metadata": {},
     "output_type": "execute_result"
    },
    {
     "data": {
      "image/png": "[encoded data removed]",
      "text/plain": [
       "<Figure size 432x288 with 1 Axes>"
      ]
     },
     "metadata": {
      "needs_background": "light"
     },
     "output_type": "display_data"
    }
   ],
   "source": [
    "x = data_df['coord1']\n",
    "y = data_df['coord2']\n",
    "\n",
    "plt.scatter(x, y, s=1)"
   ]
  }
 ],
 "metadata": {
  "kernelspec": {
   "display_name": "math",
   "language": "python",
   "name": "python3"
  },
  "language_info": {
   "codemirror_mode": {
    "name": "ipython",
    "version": 3
   },
   "file_extension": ".py",
   "mimetype": "text/x-python",
   "name": "python",
   "nbconvert_exporter": "python",
   "pygments_lexer": "ipython3",
   "version": "3.9.6"
  },
  "orig_nbformat": 4,
  "vscode": {
   "interpreter": {
    "hash": "1e50b6b01864614c43af9b5c14fedec000452c9815bdb3264ce0f0aed6d7183c"
   }
  }
 },
 "nbformat": 4,
 "nbformat_minor": 2
}
